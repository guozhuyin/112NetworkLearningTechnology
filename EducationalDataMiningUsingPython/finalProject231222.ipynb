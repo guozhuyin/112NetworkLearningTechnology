{
 "cells": [
  {
   "cell_type": "markdown",
   "metadata": {},
   "source": [
    "程式要有良好的註解，請善用jupyter notebook排版與筆記功能 (10%)<br>\n",
    "繳交上來的程式檔，每個cell都必須是可編譯沒有error的(10%)<br>\n",
    "需使用到迴圈及判斷指令(10%)<br>\n",
    "使用到檔案、資料檔或資料庫的讀寫 (10%)<br>\n",
    "使用到資料視覺化的呈現方式 (15%)<br>\n",
    "使用到資料的排序、篩選或增修刪查 (15%)<br>\n",
    "需使用到統計分析(15%)<br>\n",
    "使用機器學習相關套件 (15%)<br>\n",
    "對於學習資料呈現結果有自己的解讀(在註解及投影片上說明) (15%)<br>"
   ]
  },
  {
   "cell_type": "markdown",
   "metadata": {},
   "source": [
    "# Student performance prediction\n",
    "Description: This dataset contains information on the performance of high school students in mathematics, including their grades and demographic information. The data was collected from three high schools in the United States.<br>\n",
    "\n",
    "Columns:<br>\n",
    "Gender: The gender of the student (male/female)<br>\n",
    "Race/ethnicity: The student's racial or ethnic background (Asian, African-American, Hispanic, etc.)<br>\n",
    "Parental level of education: The highest level of education attained by the student's parent(s) or guardian(s)<br>\n",
    "Lunch: Whether the student receives free or reduced-price lunch (yes/no)<br>\n",
    "Test preparation course: Whether the student completed a test preparation course (yes/no)<br>\n",
    "Math score: The student's score on a standardized mathematics test<br>\n",
    "Reading score: The student's score on a standardized reading test<br>\n",
    "Writing score: The student's score on a standardized writing test<br>\n",
    "\n",
    "This dataset could be used for various research questions related to education, such as examining the impact of parental education or test preparation courses on student performance. It could also be used to develop machine learning models to predict student performance based on demographic and other factors.<br>"
   ]
  },
  {
   "cell_type": "code",
   "execution_count": null,
   "metadata": {},
   "outputs": [],
   "source": []
  },
  {
   "cell_type": "code",
   "execution_count": null,
   "metadata": {},
   "outputs": [],
   "source": []
  }
 ],
 "metadata": {
  "language_info": {
   "name": "python"
  }
 },
 "nbformat": 4,
 "nbformat_minor": 2
}
