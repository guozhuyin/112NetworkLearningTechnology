{
 "cells": [
  {
   "cell_type": "markdown",
   "metadata": {},
   "source": [
    "程式要有良好的註解，請善用jupyter notebook排版與筆記功能 (10%)<br>\n",
    "繳交上來的程式檔，每個cell都必須是可編譯沒有error的(10%)<br>\n",
    "需使用到迴圈及判斷指令(10%)<br>\n",
    "使用到檔案、資料檔或資料庫的讀寫 (10%)<br>\n",
    "使用到資料視覺化的呈現方式 (15%)<br>\n",
    "使用到資料的排序、篩選或增修刪查 (15%)<br>\n",
    "需使用到統計分析(15%)<br>\n",
    "使用機器學習相關套件 (15%)<br>\n",
    "對於學習資料呈現結果有自己的解讀(在註解及投影片上說明) (15%)<br>"
   ]
  },
  {
   "cell_type": "markdown",
   "metadata": {},
   "source": [
    "## 2018 OECD PISA School Questionnaire\n",
    "<a href=\"https://www.kaggle.com/datasets/dilaraahan/pisa-2018-school-questionnaire/data\">OECD PISA 2018</a>\n",
    "\n",
    "### 參考code\n",
    "<a href=\"https://www.kaggle.com/code/mbangernest/pisa-dataset-exploratory-analysis/notebook\">PISA dataset exploratory analysis</a><br>\n",
    "<a href=\"https://www.kaggle.com/code/econdata/pisa-score-analytics/input\">PISA SCORE ANALYTICS</a><br>\n",
    "<a href=\"https://www.kaggle.com/code/nalkrolu/clustering-of-countries-of-oecd-with-pisa-scores/input\">Clustering of Countries of OECD with PISA Scores</a><br>\n",
    "<a href=\"https://www.kaggle.com/code/kerneler/starter-pisa-test-scores-3762283b-6/notebook\">Starter: PISA Test Scores 3762283b-6</a><br>\n",
    "<a href=\"https://www.kaggle.com/code/kerneler/starter-international-student-d84da312-3/input\">Starter: International Student d84da312-3</a><br>"
   ]
  },
  {
   "cell_type": "code",
   "execution_count": null,
   "metadata": {},
   "outputs": [],
   "source": []
  }
 ],
 "metadata": {
  "language_info": {
   "name": "python"
  }
 },
 "nbformat": 4,
 "nbformat_minor": 2
}
