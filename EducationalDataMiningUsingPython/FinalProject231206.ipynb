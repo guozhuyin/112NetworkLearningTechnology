{
 "cells": [
  {
   "cell_type": "markdown",
   "metadata": {},
   "source": [
    "程式要有良好的註解，請善用jupyter notebook排版與筆記功能 (10%)<br>\n",
    "繳交上來的程式檔，每個cell都必須是可編譯沒有error的(10%)<br>\n",
    "需使用到迴圈及判斷指令(10%)<br>\n",
    "使用到檔案、資料檔或資料庫的讀寫 (10%)<br>\n",
    "使用到資料視覺化的呈現方式 (15%)<br>\n",
    "使用到資料的排序、篩選或增修刪查 (15%)<br>\n",
    "需使用到統計分析(15%)<br>\n",
    "使用機器學習相關套件 (15%)<br>\n",
    "對於學習資料呈現結果有自己的解讀(在註解及投影片上說明) (15%)<br>"
   ]
  },
  {
   "cell_type": "markdown",
   "metadata": {},
   "source": [
    "## 2022 OECD PISA Student questionnaire data\n",
    "<a href=\"https://webfs.oecd.org/pisa2022/STU_QQQ_SPSS.zip\">OECD PISA 2022 Student questionnaire</a>\n",
    "\n",
    "### 參考code\n",
    "<a href=\"https://www.kaggle.com/code/mbangernest/pisa-dataset-exploratory-analysis/notebook\">PISA dataset exploratory analysis</a><br>\n",
    "<a href=\"https://www.kaggle.com/code/econdata/pisa-score-analytics/input\">PISA SCORE ANALYTICS</a><br>\n",
    "<a href=\"https://www.kaggle.com/code/nalkrolu/clustering-of-countries-of-oecd-with-pisa-scores/input\">Clustering of Countries of OECD with PISA Scores</a><br>\n",
    "<a href=\"https://www.kaggle.com/code/kerneler/starter-pisa-test-scores-3762283b-6/notebook\">Starter: PISA Test Scores 3762283b-6</a><br>\n",
    "<a href=\"https://www.kaggle.com/code/kerneler/starter-international-student-d84da312-3/input\">Starter: International Student d84da312-3</a><br>"
   ]
  },
  {
   "cell_type": "code",
   "execution_count": null,
   "metadata": {},
   "outputs": [],
   "source": []
  }
 ],
 "metadata": {
  "kernelspec": {
   "display_name": "Python 3",
   "language": "python",
   "name": "python3"
  },
  "language_info": {
   "codemirror_mode": {
    "name": "ipython",
    "version": 3
   },
   "file_extension": ".py",
   "mimetype": "text/x-python",
   "name": "python",
   "nbconvert_exporter": "python",
   "pygments_lexer": "ipython3",
   "version": "3.10.12"
  }
 },
 "nbformat": 4,
 "nbformat_minor": 2
}
