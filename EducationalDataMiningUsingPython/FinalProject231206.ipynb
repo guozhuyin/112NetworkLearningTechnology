{
 "cells": [
  {
   "cell_type": "markdown",
   "metadata": {},
   "source": [
    "## 2018 OECD PISA School Questionnaire\n",
    "<a href=\"https://www.kaggle.com/datasets/dilaraahan/pisa-2018-school-questionnaire/data\">OECD PISA 2018</a>\n",
    "\n",
    "### 參考code\n",
    "<a href=\"https://www.kaggle.com/code/mbangernest/pisa-dataset-exploratory-analysis/notebook\">PISA dataset exploratory analysis</a><br>\n",
    "<a href=\"https://www.kaggle.com/code/econdata/pisa-score-analytics/input\">PISA SCORE ANALYTICS</a><br>\n",
    "<a href=\"https://www.kaggle.com/code/nalkrolu/clustering-of-countries-of-oecd-with-pisa-scores/input\">Clustering of Countries of OECD with PISA Scores</a><br>\n",
    "<a href=\"https://www.kaggle.com/code/kerneler/starter-pisa-test-scores-3762283b-6/notebook\">Starter: PISA Test Scores 3762283b-6</a><br>\n",
    "<a href=\"https://www.kaggle.com/code/kerneler/starter-international-student-d84da312-3/input\">Starter: International Student d84da312-3</a><br>"
   ]
  },
  {
   "cell_type": "code",
   "execution_count": null,
   "metadata": {},
   "outputs": [],
   "source": []
  }
 ],
 "metadata": {
  "language_info": {
   "name": "python"
  }
 },
 "nbformat": 4,
 "nbformat_minor": 2
}
